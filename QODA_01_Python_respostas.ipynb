{
  "nbformat": 4,
  "nbformat_minor": 0,
  "metadata": {
    "colab": {
      "name": "QODA-01-Python-respostas.ipynb",
      "provenance": []
    },
    "kernelspec": {
      "name": "python3",
      "display_name": "Python 3"
    }
  },
  "cells": [
    {
      "cell_type": "code",
      "metadata": {
        "id": "5WZgLLHDdCcx",
        "colab_type": "code",
        "outputId": "101192fd-cdd6-4d17-c55f-5276766b8a71",
        "colab": {
          "base_uri": "https://localhost:8080/",
          "height": 52
        }
      },
      "source": [
        "# DESAFIO PYTHON\n",
        "# Tendo como dados de entrada a altura de uma pessoa, construa um algoritmo que calcule seu peso ideal, usando a seguinte fórmula: (72.7*altura) - 58\n",
        "altura = input(\"Qual a sua altura? R:\")\n",
        "print(72.7 * float(altura) -58)"
      ],
      "execution_count": 0,
      "outputs": [
        {
          "output_type": "stream",
          "text": [
            "Qual a sua altura? R:1.82\n",
            "74.31400000000002\n"
          ],
          "name": "stdout"
        }
      ]
    },
    {
      "cell_type": "code",
      "metadata": {
        "id": "gtOpJ0BfhQPa",
        "colab_type": "code",
        "outputId": "ccad0b1f-0fbf-4d2d-8a21-25511aed16a4",
        "colab": {
          "base_uri": "https://localhost:8080/",
          "height": 52
        }
      },
      "source": [
        "# DESAFIO CONDICIONAIS\n",
        "# Faça um Programa que pergunte em que turno você estuda. Peça para digitar M-matutino ou V-Vespertino ou N- Noturno. Imprima a mensagem \"Bom Dia!\", \"Boa Tarde!\" ou \"Boa Noite!\" ou \"Valor Inválido!\", conforme o caso.\n",
        "turno = input(\"Em que turno você estuda? Responda M-matutino ou V-Vespertino ou N- Noturno: \")\n",
        "if turno == \"M\":\n",
        "  print(\"Bom dia!\")\n",
        "elif turno == \"V\":\n",
        "  print(\"Boa tarde!\")\n",
        "elif turno == \"V\":\n",
        "  print(\"Boa noite!\")\n",
        "else:\n",
        "  print(\"Por favor responda somente com M, V ou N\")"
      ],
      "execution_count": 0,
      "outputs": [
        {
          "output_type": "stream",
          "text": [
            "Em que turno você estuda? Responda M-matutino ou V-Vespertino ou N- Noturno: V\n",
            "Boa tarde!\n"
          ],
          "name": "stdout"
        }
      ]
    },
    {
      "cell_type": "code",
      "metadata": {
        "id": "YclJOzFdkygT",
        "colab_type": "code",
        "colab": {}
      },
      "source": [
        ""
      ],
      "execution_count": 0,
      "outputs": []
    },
    {
      "cell_type": "code",
      "metadata": {
        "id": "sWINJQ81dThC",
        "colab_type": "code",
        "outputId": "c5e3ac9f-8005-4d7d-d62c-135fc0de3fab",
        "colab": {
          "base_uri": "https://localhost:8080/",
          "height": 173
        }
      },
      "source": [
        "# DESAFIO REPETIÇÃO\n",
        "# A série de Fibonacci é formada pela seqüência 1,1,2,3,5,8,13,21,34,55,... Faça um programa capaz de gerar a série até o n−ésimo termo.\n",
        "# qual numero voce deseja receber a sequencia fibonacci? 34\n",
        "# F(n) = F(n−1) + F(n−2) for n≥2\n",
        "n = 34\n",
        "a = 0\n",
        "b = 1\n",
        "c = 1\n",
        "while c < n + 1:\n",
        "  print(c)\n",
        "  c = a + b\n",
        "  a = b\n",
        "  b = c\n",
        "\n"
      ],
      "execution_count": 0,
      "outputs": [
        {
          "output_type": "stream",
          "text": [
            "1\n",
            "1\n",
            "2\n",
            "3\n",
            "5\n",
            "8\n",
            "13\n",
            "21\n",
            "34\n"
          ],
          "name": "stdout"
        }
      ]
    },
    {
      "cell_type": "code",
      "metadata": {
        "id": "IWE_rUvBigeT",
        "colab_type": "code",
        "outputId": "23bbd2b6-b5f8-4720-ce99-bd8e9772ed8e",
        "colab": {
          "base_uri": "https://localhost:8080/",
          "height": 34
        }
      },
      "source": [
        "# DESAFIO FUNÇÕES\n",
        "# Reverso do número. Faça uma função que retorne o reverso de um número inteiro informado. Por exemplo: 127 -> 721.\n",
        "\n",
        "a = 127\n",
        "print(str(a)[::-1])"
      ],
      "execution_count": 0,
      "outputs": [
        {
          "output_type": "stream",
          "text": [
            "721\n"
          ],
          "name": "stdout"
        }
      ]
    },
    {
      "cell_type": "code",
      "metadata": {
        "id": "4i2on_9ZBT3o",
        "colab_type": "code",
        "colab": {}
      },
      "source": [
        ""
      ],
      "execution_count": 0,
      "outputs": []
    }
  ]
}